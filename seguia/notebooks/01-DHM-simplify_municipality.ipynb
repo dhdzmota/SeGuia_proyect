{
 "cells": [
  {
   "cell_type": "markdown",
   "id": "b2c8cc37",
   "metadata": {},
   "source": [
    "# Simplificar los datos municipales"
   ]
  },
  {
   "cell_type": "markdown",
   "id": "f42c39f1",
   "metadata": {},
   "source": [
    "## Imports"
   ]
  },
  {
   "cell_type": "code",
   "execution_count": 1,
   "id": "5bcc2736",
   "metadata": {},
   "outputs": [],
   "source": [
    "import pandas as pd\n",
    "import warnings\n",
    "\n",
    "from src.data.utils import zeroes_to_cve, create_index__mun_id"
   ]
  },
  {
   "cell_type": "markdown",
   "id": "5962a4c2",
   "metadata": {},
   "source": [
    "## Configs"
   ]
  },
  {
   "cell_type": "code",
   "execution_count": null,
   "id": "beff4c7d",
   "metadata": {},
   "outputs": [],
   "source": []
  },
  {
   "cell_type": "markdown",
   "id": "f30b54d3",
   "metadata": {},
   "source": [
    "## Constants"
   ]
  },
  {
   "cell_type": "code",
   "execution_count": 2,
   "id": "2e1f2464",
   "metadata": {},
   "outputs": [],
   "source": [
    "DROUGHT_DATA = '../data/raw/drought_data.parquet'\n",
    "MUNICIPAL_DATA = '../data/raw/muni.pkl'\n",
    "\n",
    "SIMPLIFIED_MUNICIPAL_DATA = '../data/interim/municipal_data.pkl'\n",
    "\n",
    "\n",
    "MEXICO_EPSG = \"EPSG:6362\" # https://epsg.io/6362\n",
    "WGS84 = \"EPSG:4326\" # World Geodetic System 1984 ensemble"
   ]
  },
  {
   "cell_type": "markdown",
   "id": "1f25fe61",
   "metadata": {},
   "source": [
    "## Helper functions"
   ]
  },
  {
   "cell_type": "code",
   "execution_count": null,
   "id": "29e6b583",
   "metadata": {},
   "outputs": [],
   "source": []
  },
  {
   "cell_type": "markdown",
   "id": "53116d1f",
   "metadata": {},
   "source": [
    "## Read data"
   ]
  },
  {
   "cell_type": "code",
   "execution_count": 3,
   "id": "87650d6e",
   "metadata": {},
   "outputs": [],
   "source": [
    "drought_df = pd.read_parquet(DROUGHT_DATA)\n",
    "municipal_df = pd.read_pickle(MUNICIPAL_DATA)"
   ]
  },
  {
   "cell_type": "markdown",
   "id": "35f8546a",
   "metadata": {},
   "source": [
    "## Process data"
   ]
  },
  {
   "cell_type": "code",
   "execution_count": 4,
   "id": "5d680cc3",
   "metadata": {},
   "outputs": [],
   "source": [
    "# We will create a mun_id for each entity, so that we can match correctly\n",
    "drought_df['mun_id'] = (\n",
    "    drought_df.CVE_ENT.apply(zeroes_to_cve, zeroes=2) + \n",
    "    \"_\" + \n",
    "    drought_df.CVE_MUN.apply(zeroes_to_cve, zeroes=3)\n",
    ")\n",
    "municipal_df['mun_id'] = (\n",
    "    municipal_df.CVE_ENT.apply(zeroes_to_cve, zeroes=2) + \n",
    "    \"_\" + \n",
    "    municipal_df.CVE_MUN.apply(zeroes_to_cve, zeroes=3)\n",
    ")\n",
    "\n",
    "# These municipalities in municipal_df are not found in drought_df\n",
    "lacking_mun1 = set(municipal_df.mun_id)-set(drought_df.mun_id)\n",
    "\n",
    "# All municipalities in drought_df are found in municipal_df\n",
    "lacking_mun2 = set(drought_df.mun_id)-set(municipal_df.mun_id)\n",
    "\n",
    "drought_df.set_index('mun_id', inplace=True)\n",
    "municipal_df.set_index('mun_id', inplace=True)\n",
    "\n",
    "municipal_df = municipal_df.drop(lacking_mun1)\n"
   ]
  },
  {
   "cell_type": "code",
   "execution_count": 7,
   "id": "7ecc46a2",
   "metadata": {},
   "outputs": [],
   "source": [
    "# We can now get an asociated representative point:\n",
    "municipal_df['representative_coordinate'] = municipal_df.geometry.representative_point().set_crs(MEXICO_EPSG).to_crs(WGS84)"
   ]
  },
  {
   "cell_type": "code",
   "execution_count": 18,
   "id": "d1e65315",
   "metadata": {},
   "outputs": [],
   "source": [
    "simplified_municipal_df = municipal_df.drop([\"CVEGEO\", \"CVE_ENT\", \"CVE_MUN\", \"NOMGEO\", \"NOM_ENT\", \"COV_\", \"COV_ID\", \"AREA\", 'PERIMETER'], axis=1)\n",
    "simplified_municipal_df['nombre_municipio'] = drought_df['NOMBRE_MUN']\n",
    "simplified_municipal_df['entidad_federativa'] = drought_df['ENTIDAD']\n",
    "simplified_municipal_df['org_cuenca'] = drought_df['ORG_CUENCA*']\n",
    "simplified_municipal_df['clv_oc'] = drought_df['CLV_OC']\n",
    "simplified_municipal_df['con_cuenca'] = drought_df['CON_CUENCA']\n",
    "simplified_municipal_df['cve_conc'] = drought_df['CVE_CONC']"
   ]
  },
  {
   "cell_type": "code",
   "execution_count": 20,
   "id": "8c755b3f",
   "metadata": {},
   "outputs": [
    {
     "data": {
      "text/html": [
       "<div>\n",
       "<style scoped>\n",
       "    .dataframe tbody tr th:only-of-type {\n",
       "        vertical-align: middle;\n",
       "    }\n",
       "\n",
       "    .dataframe tbody tr th {\n",
       "        vertical-align: top;\n",
       "    }\n",
       "\n",
       "    .dataframe thead th {\n",
       "        text-align: right;\n",
       "    }\n",
       "</style>\n",
       "<table border=\"1\" class=\"dataframe\">\n",
       "  <thead>\n",
       "    <tr style=\"text-align: right;\">\n",
       "      <th></th>\n",
       "      <th>geometry</th>\n",
       "      <th>representative_coordinate</th>\n",
       "      <th>nombre_municipio</th>\n",
       "      <th>entidad_federativa</th>\n",
       "      <th>org_cuenca</th>\n",
       "      <th>clv_oc</th>\n",
       "      <th>con_cuenca</th>\n",
       "      <th>cve_conc</th>\n",
       "    </tr>\n",
       "    <tr>\n",
       "      <th>mun_id</th>\n",
       "      <th></th>\n",
       "      <th></th>\n",
       "      <th></th>\n",
       "      <th></th>\n",
       "      <th></th>\n",
       "      <th></th>\n",
       "      <th></th>\n",
       "      <th></th>\n",
       "    </tr>\n",
       "  </thead>\n",
       "  <tbody>\n",
       "    <tr>\n",
       "      <th>01_008</th>\n",
       "      <td>POLYGON ((2463679.819 1122454.043, 2463636.551...</td>\n",
       "      <td>POINT (-102.53016 22.14257)</td>\n",
       "      <td>San José de Gracia</td>\n",
       "      <td>Aguascalientes</td>\n",
       "      <td>Lerma-Santiago-Pacífico</td>\n",
       "      <td>VIII</td>\n",
       "      <td>Rio Santiago</td>\n",
       "      <td>16</td>\n",
       "    </tr>\n",
       "    <tr>\n",
       "      <th>01_009</th>\n",
       "      <td>POLYGON ((2483386.269 1147520.506, 2483452.327...</td>\n",
       "      <td>POINT (-102.19271 22.24361)</td>\n",
       "      <td>Tepezalá</td>\n",
       "      <td>Aguascalientes</td>\n",
       "      <td>Lerma-Santiago-Pacífico</td>\n",
       "      <td>VIII</td>\n",
       "      <td>Rio Santiago</td>\n",
       "      <td>16</td>\n",
       "    </tr>\n",
       "    <tr>\n",
       "      <th>01_010</th>\n",
       "      <td>POLYGON ((2510504.977 1104537.995, 2511266.668...</td>\n",
       "      <td>POINT (-102.00073 21.92874)</td>\n",
       "      <td>El Llano</td>\n",
       "      <td>Aguascalientes</td>\n",
       "      <td>Lerma-Santiago-Pacífico</td>\n",
       "      <td>VIII</td>\n",
       "      <td>Rio Santiago</td>\n",
       "      <td>16</td>\n",
       "    </tr>\n",
       "    <tr>\n",
       "      <th>01_011</th>\n",
       "      <td>POLYGON ((2485534.556 1117425.794, 2485536.613...</td>\n",
       "      <td>POINT (-102.25178 22.02192)</td>\n",
       "      <td>San Francisco de los Romo</td>\n",
       "      <td>Aguascalientes</td>\n",
       "      <td>Lerma-Santiago-Pacífico</td>\n",
       "      <td>VIII</td>\n",
       "      <td>Rio Santiago</td>\n",
       "      <td>16</td>\n",
       "    </tr>\n",
       "    <tr>\n",
       "      <th>01_001</th>\n",
       "      <td>POLYGON ((2489959.178 1111683.059, 2489874.765...</td>\n",
       "      <td>POINT (-102.30547 21.84777)</td>\n",
       "      <td>Aguascalientes</td>\n",
       "      <td>Aguascalientes</td>\n",
       "      <td>Lerma-Santiago-Pacífico</td>\n",
       "      <td>VIII</td>\n",
       "      <td>Rio Santiago</td>\n",
       "      <td>16</td>\n",
       "    </tr>\n",
       "  </tbody>\n",
       "</table>\n",
       "</div>"
      ],
      "text/plain": [
       "                                                 geometry  \\\n",
       "mun_id                                                      \n",
       "01_008  POLYGON ((2463679.819 1122454.043, 2463636.551...   \n",
       "01_009  POLYGON ((2483386.269 1147520.506, 2483452.327...   \n",
       "01_010  POLYGON ((2510504.977 1104537.995, 2511266.668...   \n",
       "01_011  POLYGON ((2485534.556 1117425.794, 2485536.613...   \n",
       "01_001  POLYGON ((2489959.178 1111683.059, 2489874.765...   \n",
       "\n",
       "          representative_coordinate           nombre_municipio  \\\n",
       "mun_id                                                           \n",
       "01_008  POINT (-102.53016 22.14257)         San José de Gracia   \n",
       "01_009  POINT (-102.19271 22.24361)                   Tepezalá   \n",
       "01_010  POINT (-102.00073 21.92874)                   El Llano   \n",
       "01_011  POINT (-102.25178 22.02192)  San Francisco de los Romo   \n",
       "01_001  POINT (-102.30547 21.84777)             Aguascalientes   \n",
       "\n",
       "       entidad_federativa               org_cuenca clv_oc    con_cuenca  \\\n",
       "mun_id                                                                    \n",
       "01_008     Aguascalientes  Lerma-Santiago-Pacífico   VIII  Rio Santiago   \n",
       "01_009     Aguascalientes  Lerma-Santiago-Pacífico   VIII  Rio Santiago   \n",
       "01_010     Aguascalientes  Lerma-Santiago-Pacífico   VIII  Rio Santiago   \n",
       "01_011     Aguascalientes  Lerma-Santiago-Pacífico   VIII  Rio Santiago   \n",
       "01_001     Aguascalientes  Lerma-Santiago-Pacífico   VIII  Rio Santiago   \n",
       "\n",
       "        cve_conc  \n",
       "mun_id            \n",
       "01_008        16  \n",
       "01_009        16  \n",
       "01_010        16  \n",
       "01_011        16  \n",
       "01_001        16  "
      ]
     },
     "execution_count": 20,
     "metadata": {},
     "output_type": "execute_result"
    }
   ],
   "source": [
    "simplified_municipal_df.head()"
   ]
  },
  {
   "cell_type": "markdown",
   "id": "0001385c",
   "metadata": {},
   "source": [
    "## Conclusions"
   ]
  },
  {
   "cell_type": "code",
   "execution_count": 21,
   "id": "7b1933f6",
   "metadata": {},
   "outputs": [],
   "source": [
    "simplified_municipal_df.to_pickle(SIMPLIFIED_MUNICIPAL_DATA)"
   ]
  }
 ],
 "metadata": {
  "kernelspec": {
   "display_name": "Python 3 (ipykernel)",
   "language": "python",
   "name": "python3"
  },
  "language_info": {
   "codemirror_mode": {
    "name": "ipython",
    "version": 3
   },
   "file_extension": ".py",
   "mimetype": "text/x-python",
   "name": "python",
   "nbconvert_exporter": "python",
   "pygments_lexer": "ipython3",
   "version": "3.8.10"
  }
 },
 "nbformat": 4,
 "nbformat_minor": 5
}
