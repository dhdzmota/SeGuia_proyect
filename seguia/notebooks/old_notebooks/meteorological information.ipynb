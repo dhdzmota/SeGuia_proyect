{
 "cells": [
  {
   "cell_type": "code",
   "execution_count": 1,
   "id": "4cb3144b",
   "metadata": {},
   "outputs": [],
   "source": [
    "import geopandas as gpd\n",
    "import json\n",
    "import matplotlib.pyplot as plt\n",
    "import numpy as np\n",
    "import pandas as pd\n",
    "import requests\n",
    "import time"
   ]
  },
  {
   "cell_type": "markdown",
   "id": "da99e22b",
   "metadata": {},
   "source": [
    "Daily meteorological information obtained from https://open-meteo.com/"
   ]
  },
  {
   "cell_type": "code",
   "execution_count": 2,
   "id": "dbcd2467",
   "metadata": {},
   "outputs": [],
   "source": [
    "def generate_link(df):\n",
    "    lat = df.centroid_lat\n",
    "    lon = df.centroid_lon\n",
    "    meteorological_features = [\n",
    "        'weathercode',\n",
    "        'temperature_2m_max',\n",
    "        'temperature_2m_min',\n",
    "        'temperature_2m_mean',\n",
    "        'apparent_temperature_max',\n",
    "        'apparent_temperature_min',\n",
    "        'apparent_temperature_mean',\n",
    "        'sunrise',\n",
    "        'sunset',\n",
    "        'shortwave_radiation_sum',\n",
    "        'precipitation_sum',\n",
    "        'rain_sum',\n",
    "        'precipitation_hours',\n",
    "    ]\n",
    "    meteorological_features_link_text = ','.join(meteorological_features)\n",
    "    \n",
    "    link_parts = [\n",
    "        'https://archive-api.open-meteo.com/v1/archive?',\n",
    "        f'latitude={lat}&longitude={lon}',\n",
    "        '&start_date=1980-01-01&end_date=2023-06-15&',\n",
    "        f'daily={meteorological_features_link_text}&timezone=GMT',\n",
    "        \n",
    "    ]\n",
    "    complete_link = ''.join(link_parts)\n",
    "    return complete_link"
   ]
  },
  {
   "cell_type": "code",
   "execution_count": 3,
   "id": "b4254878",
   "metadata": {},
   "outputs": [],
   "source": [
    "data = gpd.read_file('../data/raw/00mun.shp')"
   ]
  },
  {
   "cell_type": "code",
   "execution_count": 4,
   "id": "213803c4",
   "metadata": {},
   "outputs": [
    {
     "data": {
      "text/html": [
       "<div>\n",
       "<style scoped>\n",
       "    .dataframe tbody tr th:only-of-type {\n",
       "        vertical-align: middle;\n",
       "    }\n",
       "\n",
       "    .dataframe tbody tr th {\n",
       "        vertical-align: top;\n",
       "    }\n",
       "\n",
       "    .dataframe thead th {\n",
       "        text-align: right;\n",
       "    }\n",
       "</style>\n",
       "<table border=\"1\" class=\"dataframe\">\n",
       "  <thead>\n",
       "    <tr style=\"text-align: right;\">\n",
       "      <th></th>\n",
       "      <th>CVEGEO</th>\n",
       "      <th>CVE_ENT</th>\n",
       "      <th>CVE_MUN</th>\n",
       "      <th>NOMGEO</th>\n",
       "      <th>geometry</th>\n",
       "    </tr>\n",
       "  </thead>\n",
       "  <tbody>\n",
       "    <tr>\n",
       "      <th>0</th>\n",
       "      <td>01001</td>\n",
       "      <td>01</td>\n",
       "      <td>001</td>\n",
       "      <td>Aguascalientes</td>\n",
       "      <td>POLYGON ((2489072.503 1115771.584, 2489352.774...</td>\n",
       "    </tr>\n",
       "    <tr>\n",
       "      <th>1</th>\n",
       "      <td>01002</td>\n",
       "      <td>01</td>\n",
       "      <td>002</td>\n",
       "      <td>Asientos</td>\n",
       "      <td>POLYGON ((2494680.261 1141224.505, 2494749.948...</td>\n",
       "    </tr>\n",
       "    <tr>\n",
       "      <th>2</th>\n",
       "      <td>01003</td>\n",
       "      <td>01</td>\n",
       "      <td>003</td>\n",
       "      <td>Calvillo</td>\n",
       "      <td>POLYGON ((2429607.454 1120262.254, 2429071.902...</td>\n",
       "    </tr>\n",
       "    <tr>\n",
       "      <th>3</th>\n",
       "      <td>01004</td>\n",
       "      <td>01</td>\n",
       "      <td>004</td>\n",
       "      <td>CosÃ­o</td>\n",
       "      <td>POLYGON ((2470517.824 1155028.588, 2470552.248...</td>\n",
       "    </tr>\n",
       "    <tr>\n",
       "      <th>4</th>\n",
       "      <td>01005</td>\n",
       "      <td>01</td>\n",
       "      <td>005</td>\n",
       "      <td>JesÃºs MarÃ­a</td>\n",
       "      <td>POLYGON ((2465526.729 1114740.466, 2465752.546...</td>\n",
       "    </tr>\n",
       "    <tr>\n",
       "      <th>...</th>\n",
       "      <td>...</td>\n",
       "      <td>...</td>\n",
       "      <td>...</td>\n",
       "      <td>...</td>\n",
       "      <td>...</td>\n",
       "    </tr>\n",
       "    <tr>\n",
       "      <th>2464</th>\n",
       "      <td>32053</td>\n",
       "      <td>32</td>\n",
       "      <td>053</td>\n",
       "      <td>Villa GonzÃ¡lez Ortega</td>\n",
       "      <td>POLYGON ((2504476.172 1180670.127, 2504478.046...</td>\n",
       "    </tr>\n",
       "    <tr>\n",
       "      <th>2465</th>\n",
       "      <td>32054</td>\n",
       "      <td>32</td>\n",
       "      <td>054</td>\n",
       "      <td>Villa Hidalgo</td>\n",
       "      <td>POLYGON ((2531223.368 1166188.348, 2531242.386...</td>\n",
       "    </tr>\n",
       "    <tr>\n",
       "      <th>2466</th>\n",
       "      <td>32055</td>\n",
       "      <td>32</td>\n",
       "      <td>055</td>\n",
       "      <td>Villanueva</td>\n",
       "      <td>POLYGON ((2420011.778 1183552.394, 2420043.461...</td>\n",
       "    </tr>\n",
       "    <tr>\n",
       "      <th>2467</th>\n",
       "      <td>32056</td>\n",
       "      <td>32</td>\n",
       "      <td>056</td>\n",
       "      <td>Zacatecas</td>\n",
       "      <td>POLYGON ((2421707.751 1202019.971, 2421780.086...</td>\n",
       "    </tr>\n",
       "    <tr>\n",
       "      <th>2468</th>\n",
       "      <td>32058</td>\n",
       "      <td>32</td>\n",
       "      <td>058</td>\n",
       "      <td>Santa MarÃ­a de la Paz</td>\n",
       "      <td>POLYGON ((2356749.002 1062854.583, 2357430.998...</td>\n",
       "    </tr>\n",
       "  </tbody>\n",
       "</table>\n",
       "<p>2469 rows × 5 columns</p>\n",
       "</div>"
      ],
      "text/plain": [
       "     CVEGEO CVE_ENT CVE_MUN                  NOMGEO  \\\n",
       "0     01001      01     001          Aguascalientes   \n",
       "1     01002      01     002                Asientos   \n",
       "2     01003      01     003                Calvillo   \n",
       "3     01004      01     004                  CosÃ­o   \n",
       "4     01005      01     005           JesÃºs MarÃ­a   \n",
       "...     ...     ...     ...                     ...   \n",
       "2464  32053      32     053  Villa GonzÃ¡lez Ortega   \n",
       "2465  32054      32     054           Villa Hidalgo   \n",
       "2466  32055      32     055              Villanueva   \n",
       "2467  32056      32     056               Zacatecas   \n",
       "2468  32058      32     058  Santa MarÃ­a de la Paz   \n",
       "\n",
       "                                               geometry  \n",
       "0     POLYGON ((2489072.503 1115771.584, 2489352.774...  \n",
       "1     POLYGON ((2494680.261 1141224.505, 2494749.948...  \n",
       "2     POLYGON ((2429607.454 1120262.254, 2429071.902...  \n",
       "3     POLYGON ((2470517.824 1155028.588, 2470552.248...  \n",
       "4     POLYGON ((2465526.729 1114740.466, 2465752.546...  \n",
       "...                                                 ...  \n",
       "2464  POLYGON ((2504476.172 1180670.127, 2504478.046...  \n",
       "2465  POLYGON ((2531223.368 1166188.348, 2531242.386...  \n",
       "2466  POLYGON ((2420011.778 1183552.394, 2420043.461...  \n",
       "2467  POLYGON ((2421707.751 1202019.971, 2421780.086...  \n",
       "2468  POLYGON ((2356749.002 1062854.583, 2357430.998...  \n",
       "\n",
       "[2469 rows x 5 columns]"
      ]
     },
     "execution_count": 4,
     "metadata": {},
     "output_type": "execute_result"
    }
   ],
   "source": [
    "data"
   ]
  },
  {
   "cell_type": "markdown",
   "id": "f8f761ca",
   "metadata": {},
   "source": [
    "#The WGS84 Coordinate Systems adds Greenwich as the starting point (prime meridian) for the longitude (0°) and sets the units in degrees (°). This coordinate system also has a unique reference code, the so-called EPSG code, which is 4326\n"
   ]
  },
  {
   "cell_type": "code",
   "execution_count": 81,
   "id": "f8a082e4",
   "metadata": {},
   "outputs": [],
   "source": [
    "centroids = data.centroid.to_crs(epsg='4326')\n",
    "centroids_lon = centroids.apply(lambda x:x.coords[0][0])\n",
    "centroids_lat = centroids.apply(lambda x:x.coords[0][1])\n",
    "\n",
    "data['centroid_lat'] = centroids_lat\n",
    "data['centroid_lon'] = centroids_lon"
   ]
  },
  {
   "cell_type": "code",
   "execution_count": 83,
   "id": "97319e70",
   "metadata": {},
   "outputs": [],
   "source": [
    "data_link = data.apply(generate_link, axis=1)"
   ]
  },
  {
   "cell_type": "code",
   "execution_count": 86,
   "id": "e1e7c630",
   "metadata": {},
   "outputs": [],
   "source": [
    "def obtain_link_data(link):\n",
    "    link_response = requests.get(link)\n",
    "    my_json = link_response.content.decode('utf8')\n",
    "    link_data = json.loads(my_json)\n",
    "    time.sleep(60)\n",
    "    return link_data"
   ]
  },
  {
   "cell_type": "code",
   "execution_count": 87,
   "id": "01d45fe6",
   "metadata": {},
   "outputs": [],
   "source": [
    "informational_return = data_link.apply(obtain_link_data)"
   ]
  },
  {
   "cell_type": "code",
   "execution_count": 88,
   "id": "e52a02f1",
   "metadata": {},
   "outputs": [],
   "source": [
    "data['data_link'] = data_link"
   ]
  },
  {
   "cell_type": "code",
   "execution_count": 89,
   "id": "7423345f",
   "metadata": {},
   "outputs": [],
   "source": [
    "data['meteorological_information'] = informational_return"
   ]
  },
  {
   "cell_type": "code",
   "execution_count": 94,
   "id": "1de35e03",
   "metadata": {},
   "outputs": [],
   "source": [
    "desired_meteorological_information_cols = ['CVEGEO', 'CVE_ENT', 'CVE_MUN', 'NOMGEO', 'centroid_lat', 'centroid_lon', 'data_link', 'meteorological_information']\n",
    "data[desired_meteorological_information_cols].to_csv('../data/raw/meteorological_information.csv')"
   ]
  }
 ],
 "metadata": {
  "kernelspec": {
   "display_name": "Python 3 (ipykernel)",
   "language": "python",
   "name": "python3"
  },
  "language_info": {
   "codemirror_mode": {
    "name": "ipython",
    "version": 3
   },
   "file_extension": ".py",
   "mimetype": "text/x-python",
   "name": "python",
   "nbconvert_exporter": "python",
   "pygments_lexer": "ipython3",
   "version": "3.8.10"
  }
 },
 "nbformat": 4,
 "nbformat_minor": 5
}
