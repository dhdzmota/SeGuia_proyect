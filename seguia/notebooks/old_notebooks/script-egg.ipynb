{
 "cells": [
  {
   "cell_type": "code",
   "execution_count": 1,
   "id": "d60aba0e",
   "metadata": {},
   "outputs": [],
   "source": [
    "import dash_bootstrap_components as dbc\n",
    "import json\n",
    "import numpy as np\n",
    "import pandas as pd\n",
    "import plotly.express as px\n",
    "import plotly.graph_objects as go\n",
    "import requests\n",
    "\n",
    "from dash import Dash, html, dcc, callback, Output, Input, get_asset_url\n",
    "from PIL import Image"
   ]
  },
  {
   "cell_type": "code",
   "execution_count": 2,
   "id": "31e92c34",
   "metadata": {},
   "outputs": [],
   "source": [
    "# data input and resources\n",
    "seguia_logo_img = Image.open(\"../references/branding/Logo seguia.png\")\n",
    "\n",
    "# configuration\n",
    "theme = dbc.themes.LUMEN"
   ]
  },
  {
   "cell_type": "code",
   "execution_count": null,
   "id": "c3b3ac72",
   "metadata": {},
   "outputs": [],
   "source": []
  },
  {
   "cell_type": "code",
   "execution_count": 3,
   "id": "8b40cb61",
   "metadata": {},
   "outputs": [],
   "source": [
    "app = Dash(\n",
    "    __name__, \n",
    "    external_stylesheets=[theme]\n",
    "    \n",
    ")\n",
    "\n",
    "app.layout = html.Div([\n",
    "    html.H1(children='¿Nos estamos quedando sin agua?', style={'textAlign':'center'}),\n",
    "    html.P(children='Este es el primer parrafo: Lorem ipsum dolor sit amet, consectetur adipiscing elit. Nullam faucibus orci risus, eu vehicula magna vestibulum eu. Integer luctus non eros a aliquam. Nulla magna nisl, cursus sit amet urna et, suscipit vestibulum libero. Mauris vehicula sit amet purus id pharetra. Suspendisse nec turpis dui. Suspendisse semper nisi quis nulla rhoncus bibendum. Aenean ut nisl at risus tincidunt fringilla placerat sit amet leo. Ut a sem non eros euismod elementum non id lorem. Nunc volutpat quam venenatis diam sodales, et scelerisque neque maximus. Pellentesque laoreet diam in elit pretium ullamcorper. Nunc dignissim odio lacus, eu congue enim fermentum vitae.'),\n",
    "    html.H2(children='¿Qué pasa con México?'),\n",
    "    \n",
    "    html.Div([\n",
    "        html.Div([\n",
    "            # html.P(children='Aqui va el primer gráfico, es una imagen de Mexico'),\n",
    "            dcc.Graph(id='mexico-state-map')\n",
    "        ], style={'width': '64%', 'display': 'inline-block'}),\n",
    "        html.Div([\n",
    "            # html.P(children='Aqui va el segundo grafico de pie. Es la proporción de sequías.')\n",
    "            dcc.Graph(id='mexico-municipality-piechart')\n",
    "        ], style={'width': '34%', 'float': 'right', 'display': 'inline-block'})\n",
    "\n",
    "    ]),\n",
    "    html.Div(\n",
    "        #html.P(children='Aqui es la informacion del slider para cambiar de fecha. Lorem ipsum dolor sit amet, consectetur adipiscing elit.')\n",
    "        [dcc.Slider(0, 20, 5,value=10, id='date-filter-for-mexico-state-map-and-mexico-municipal-piechart')]\n",
    "    ),\n",
    "    html.P(children='Este es el segundo parrafo que explica lo anterior: Lorem ipsum dolor sit amet, consectetur adipiscing elit. Nullam faucibus orci risus, eu vehicula magna vestibulum eu. Integer luctus non eros a aliquam. Nulla magna nisl, cursus sit amet urna et, suscipit vestibulum libero. Mauris vehicula sit amet purus id pharetra. Suspendisse nec turpis dui. Suspendisse semper nisi quis nulla rhoncus bibendum. Aenean ut nisl at risus tincidunt fringilla placerat sit amet leo. Ut a sem non eros euismod elementum non id lorem. Nunc volutpat quam venenatis diam sodales, et scelerisque neque maximus. Pellentesque laoreet diam in elit pretium ullamcorper. Nunc dignissim odio lacus, eu congue enim fermentum vitae.'),\n",
    "    html.H2(children='Donde vivo, ¿ya valió?'),\n",
    "    \n",
    "    # Falta el dropdown\n",
    "    html.Div([\n",
    "        html.Div([\n",
    "            #html.P(children='Aqui va el gráfico, es una imagen de el estado seleccionado'),\n",
    "            dcc.Graph(id='state-municipality-map')\n",
    "        ], style={'width': '59%', 'display': 'inline-block'}),\n",
    "        html.Div([\n",
    "            html.P(children='Aqui va el escrito del municipio, explica a nivel estado que esta pasando y también a nivel municipio: Lorem ipsum dolor sit amet, consectetur adipiscing elit. Nullam faucibus orci risus, eu vehicula magna vestibulum eu. Integer luctus non eros a aliquam. Nulla magna nisl, cursus sit amet urna et, suscipit vestibulum libero.')\n",
    "        ], style={'width': '39%', 'float': 'right', 'display': 'inline-block'})\n",
    "\n",
    "    ]),\n",
    "    \n",
    "    html.Div(\n",
    "        [dcc.Slider(0, 20, 5,value=10, id='date-filter-for-state-municipality-map')]\n",
    "        #html.P(children='Aqui es la informacion del slider para cambiar de fecha. Lorem ipsum dolor sit amet, consectetur adipiscing elit.'),\n",
    "        #style={'padding': '100px 20px 20px 20px'}\n",
    "\n",
    "        #dcc.Slider(id=date-filter-for-second-state-municipality-map)\n",
    "    ),\n",
    "    html.Div(\n",
    "        [html.P(children='Aqui va la grafica lineal donde se busca representar el estado del cual se va hablando, y se selecciona el valor de la fecha sombreada')],\n",
    "        style={'padding': '0px 20px 20px 20px'}\n",
    "    ),\n",
    "    \n",
    "    html.H2(children='¿Hay una solución?... Pues hicimos un modelo'),\n",
    "    \n",
    "    html.Div([\n",
    "        html.Div([\n",
    "            html.P(children='Este es el parrafo que explica el modelo: Lorem ipsum dolor sit amet, consectetur adipiscing elit. Nullam faucibus orci risus, eu vehicula magna vestibulum eu. Integer luctus non eros a aliquam. Nulla magna nisl, cursus sit amet urna et, suscipit vestibulum libero. Mauris vehicula sit amet purus id pharetra. Suspendisse nec turpis dui. Suspendisse semper nisi quis nulla rhoncus bibendum. Aenean ut nisl at risus tincidunt fringilla placerat sit amet leo. Ut a sem non eros euismod elementum non id lorem. Nunc volutpat quam venenatis diam sodales, et scelerisque neque maximus. Pellentesque laoreet diam in elit pretium ullamcorper. Nunc dignissim odio lacus, eu congue enim fermentum vitae.'),\n",
    "\n",
    "        ], style={'width': '74%', 'display': 'inline-block'}),\n",
    "        html.Div([\n",
    "            #html.P(children='Aqui va el logo del modelo: Seguia.')\n",
    "            html.Img(src=seguia_logo_img)\n",
    "        ], style={'width': '24%', 'float': 'right', 'display': 'inline-block'})\n",
    "    ]),\n",
    "    \n",
    "    html.Div([\n",
    "        html.Div([\n",
    "            html.H3(children='Predicción '),\n",
    "\n",
    "        ], style={'width': '49%', 'display': 'inline-block'}),\n",
    "        html.Div([\n",
    "            html.H3(children='Realidad '),\n",
    "        ], style={'width': '49%', 'float': 'right', 'display': 'inline-block'})\n",
    "    ]),\n",
    "    html.Div([\n",
    "        html.Div([\n",
    "            #html.P(children='Aquí va una imagen donde se observa la predicción del modelo '),\n",
    "            dcc.Graph(id='model-prediction-map')\n",
    "\n",
    "        ], style={'width': '49%', 'display': 'inline-block'}),\n",
    "        html.Div([\n",
    "            #html.P(children='Aquí va una imagen donde se observa la realidad de lo que el modelo debió haber predicho.'),\n",
    "            dcc.Graph(id='model-real_value-map')\n",
    "\n",
    "        ], style={'width': '49%', 'float': 'right', 'display': 'inline-block'})\n",
    "    ]),\n",
    "    html.P(children='Aquí va una explicación donde se habla de lo que se está viendo Lorem ipsum dolor sit amet, consectetur adipiscing elit. Nullam faucibus orci risus, eu vehicula magna vestibulum eu. Integer luctus non eros a aliquam. Nulla magna nisl, cursus sit amet urna et, suscipit vestibulum libero. Mauris vehicula sit amet purus id pharetra. Suspendisse nec turpis dui. Suspendisse semper nisi quis nulla rhoncus bibendum. Aenean ut nisl at risus tincidunt fringilla placerat sit amet leo. Ut a sem non eros euismod elementum non id lorem. Nunc volutpat quam venenatis diam sodales, et scelerisque neque maximus. Pellentesque laoreet diam in elit pretium ullamcorper. Nunc dignissim odio lacus, eu congue enim fermentum vitae.')\n",
    "    \n",
    "\n",
    "])"
   ]
  },
  {
   "cell_type": "code",
   "execution_count": 4,
   "id": "a77fd3d0",
   "metadata": {},
   "outputs": [
    {
     "data": {
      "text/html": [
       "\n",
       "        <iframe\n",
       "            width=\"100%\"\n",
       "            height=\"650\"\n",
       "            src=\"http://127.0.0.1:8050/\"\n",
       "            frameborder=\"0\"\n",
       "            allowfullscreen\n",
       "            \n",
       "        ></iframe>\n",
       "        "
      ],
      "text/plain": [
       "<IPython.lib.display.IFrame at 0x7f8dc8480d60>"
      ]
     },
     "metadata": {},
     "output_type": "display_data"
    }
   ],
   "source": [
    "if __name__ == '__main__':\n",
    "    app.run(debug=True)"
   ]
  },
  {
   "cell_type": "code",
   "execution_count": null,
   "id": "031acb7f",
   "metadata": {},
   "outputs": [],
   "source": []
  }
 ],
 "metadata": {
  "kernelspec": {
   "display_name": "Python 3 (ipykernel)",
   "language": "python",
   "name": "python3"
  },
  "language_info": {
   "codemirror_mode": {
    "name": "ipython",
    "version": 3
   },
   "file_extension": ".py",
   "mimetype": "text/x-python",
   "name": "python",
   "nbconvert_exporter": "python",
   "pygments_lexer": "ipython3",
   "version": "3.8.10"
  }
 },
 "nbformat": 4,
 "nbformat_minor": 5
}
