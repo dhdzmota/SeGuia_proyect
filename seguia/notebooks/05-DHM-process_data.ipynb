{
 "cells": [
  {
   "cell_type": "markdown",
   "id": "75484f14",
   "metadata": {},
   "source": [
    "# Process Drougth data\n",
    "Estamos procesando la informacion de las sequias para hacerlo un modelo supervisado. En la explicación del [MSM](https://smn.conagua.gob.mx/es/climatologia/monitor-de-sequia/monitor-de-sequia-en-mexico), explican que desde el 2016, la definición de lo que consideran sequía cambia, por esta razón tomaremos los datos a partir de esa fecha."
   ]
  },
  {
   "cell_type": "markdown",
   "id": "43da7a1f",
   "metadata": {},
   "source": [
    "## Imports"
   ]
  },
  {
   "cell_type": "code",
   "execution_count": 1,
   "id": "08bef30f",
   "metadata": {},
   "outputs": [],
   "source": [
    "import pandas as pd\n",
    "import warnings\n",
    "\n",
    "from dateutil.relativedelta import relativedelta\n",
    "\n",
    "\n",
    "from src.data.utils import (\n",
    "    get_general_path, join_paths, zeroes_to_cve, save_as_pickle\n",
    ")"
   ]
  },
  {
   "cell_type": "markdown",
   "id": "bfecb88f",
   "metadata": {},
   "source": [
    "## Constants"
   ]
  },
  {
   "cell_type": "code",
   "execution_count": 2,
   "id": "aa8da58f",
   "metadata": {},
   "outputs": [],
   "source": [
    "RAW_DATA_PATH = 'data/raw'\n",
    "INTERIM_DATA_PATH = 'data/interim'\n",
    "TARGET_DATA_FILE = 'target_datasets.pkl'\n",
    "\n",
    "DROUGTH_DATA_FILE = 'drought_data.parquet'\n",
    "\n",
    "PROCESSED_DROUGHT_DATA_FILE = 'processed_drought_data.parquet'\n",
    "\n",
    "\n",
    "TIME_IDENTIFIER = '00:00'\n",
    "\n",
    "DATE_NAME = 'date'\n",
    "NEW_DATE = 'standard_date'\n",
    "THRESHOLD_DATE = '2016-01-01'\n",
    "TARGET_NAME = 'num_drought_index'\n",
    "COMPARISION_DAY = 18 # WAS 15 But changed due to fluctiations"
   ]
  },
  {
   "cell_type": "markdown",
   "id": "de1e499b",
   "metadata": {},
   "source": [
    "## Config"
   ]
  },
  {
   "cell_type": "code",
   "execution_count": 8,
   "id": "13ab0dd3",
   "metadata": {},
   "outputs": [],
   "source": [
    "warnings.filterwarnings('ignore')\n",
    "pd.set_option('display.max_rows', 1000)"
   ]
  },
  {
   "cell_type": "markdown",
   "id": "d1e8fdc6",
   "metadata": {},
   "source": [
    "## Functions"
   ]
  },
  {
   "cell_type": "code",
   "execution_count": 4,
   "id": "94630dad",
   "metadata": {},
   "outputs": [],
   "source": [
    "def transform_numerical_drought_index(idx):\n",
    "    \"\"\"This function transforms an index on the DROUGHT_INDEX into the respective numerical form\n",
    "    For example:\n",
    "    none -> 0\n",
    "    D1 -> 1\n",
    "    D2 -> 2\n",
    "    ...\n",
    "    DN-> N\n",
    "    Where N is an integer.\n",
    "    \"\"\"\n",
    "    if isinstance(idx, str):\n",
    "        return float(idx.replace('D', ''))\n",
    "    return 0\n",
    "\n",
    "def targets_displaced_data(data, date_col, original_target, *months):\n",
    "    \"\"\" This function generates a target with the DROUGHT_INDEX as if you can see the future. That is to say:\n",
    "    What would be the DROUGHT INDEX for an specific instance in the future (1 month, 3 months, 6 months, 1 year).\n",
    "    \"\"\"\n",
    "    general_data = data.copy()\n",
    "    for month in months:\n",
    "        general_data.set_index(data.index)\n",
    "        displaced_data = general_data.copy()\n",
    "        column = f'displaced_date{month}_months'\n",
    "        target = f'drougth_index_next{month}_months'\n",
    "        date_displacement = lambda x: x + relativedelta(months=-month)\n",
    "        displaced_data[column] = displaced_data[date_col].apply(date_displacement)\n",
    "        print(displaced_data[column].head())\n",
    "        target_df = create_index_for_row_data(displaced_data, column).copy()\n",
    "        target_df.rename(columns={original_target: target}, inplace=True)\n",
    "        general_data[target] = target_df[target]\n",
    "    drought_targets = [drought_target for drought_target in general_data.columns if 'DROUGHT_INDEX' in drought_target]\n",
    "    return general_data[drought_targets]"
   ]
  },
  {
   "cell_type": "markdown",
   "id": "be1f3bed",
   "metadata": {},
   "source": [
    "## Read data"
   ]
  },
  {
   "cell_type": "code",
   "execution_count": 5,
   "id": "a20bfc28",
   "metadata": {},
   "outputs": [],
   "source": [
    "general_path = get_general_path()\n",
    "drougth_data_path = join_paths(general_path, RAW_DATA_PATH, DROUGTH_DATA_FILE)\n",
    "drought_data = pd.read_parquet(drougth_data_path)"
   ]
  },
  {
   "cell_type": "markdown",
   "id": "06326e77",
   "metadata": {},
   "source": [
    "## Process Data"
   ]
  },
  {
   "cell_type": "code",
   "execution_count": 6,
   "id": "e96c7864",
   "metadata": {},
   "outputs": [],
   "source": [
    "drought_data['mun_id'] = (\n",
    "    drought_data.CVE_ENT.apply(zeroes_to_cve, zeroes=2) + \n",
    "    \"_\" + \n",
    "    drought_data.CVE_MUN.apply(zeroes_to_cve, zeroes=3)\n",
    ")\n",
    "\n",
    "date_columns = [col for col in drought_data.columns if TIME_IDENTIFIER in str(col)]\n",
    "other_columns = [col for col in drought_data.columns if not (TIME_IDENTIFIER in str(col))]\n",
    "data = pd.melt(drought_data, id_vars=other_columns, var_name=DATE_NAME, value_name=TARGET_NAME)\n",
    "data[DATE_NAME] = pd.to_datetime(data[DATE_NAME])\n",
    "\n",
    "data.loc[data[DATE_NAME].dt.day > COMPARISION_DAY, NEW_DATE] = data[DATE_NAME] - pd.to_timedelta(data[DATE_NAME].dt.day,'d') + pd.to_timedelta(28,'d') \n",
    "data.loc[data[DATE_NAME].dt.day <= COMPARISION_DAY, NEW_DATE] = data[DATE_NAME] - pd.to_timedelta(data[DATE_NAME].dt.day,'d') + pd.to_timedelta(15,'d') \n",
    "data[TARGET_NAME] = data[TARGET_NAME].apply(transform_numerical_drought_index)\n",
    "data['mun_id__date'] = data['mun_id'] + '__' + data[NEW_DATE].dt.strftime('%Y%m%d')\n",
    "data.set_index('mun_id__date', inplace=True)"
   ]
  },
  {
   "cell_type": "markdown",
   "id": "b6a67f5c",
   "metadata": {},
   "source": [
    "## Results"
   ]
  },
  {
   "cell_type": "markdown",
   "id": "f3bb5334",
   "metadata": {},
   "source": [
    "## Conclusion"
   ]
  },
  {
   "cell_type": "code",
   "execution_count": 7,
   "id": "8452c718",
   "metadata": {},
   "outputs": [],
   "source": [
    "procesed_drougth_data_path = join_paths(general_path, INTERIM_DATA_PATH, PROCESSED_DROUGHT_DATA_FILE)\n",
    "data.to_parquet(procesed_drougth_data_path)"
   ]
  }
 ],
 "metadata": {
  "kernelspec": {
   "display_name": "Python 3 (ipykernel)",
   "language": "python",
   "name": "python3"
  },
  "language_info": {
   "codemirror_mode": {
    "name": "ipython",
    "version": 3
   },
   "file_extension": ".py",
   "mimetype": "text/x-python",
   "name": "python",
   "nbconvert_exporter": "python",
   "pygments_lexer": "ipython3",
   "version": "3.8.10"
  }
 },
 "nbformat": 4,
 "nbformat_minor": 5
}
