{
 "cells": [
  {
   "cell_type": "markdown",
   "id": "4629fd83",
   "metadata": {},
   "source": [
    "# Meteorological features: \n",
    "\n",
    "Crear características de las variables meteorológicas"
   ]
  },
  {
   "cell_type": "markdown",
   "id": "7b78c5a1",
   "metadata": {},
   "source": [
    "## Imports"
   ]
  },
  {
   "cell_type": "code",
   "execution_count": 1,
   "id": "1fdb1a1a",
   "metadata": {},
   "outputs": [],
   "source": [
    "import datetime\n",
    "import pandas as pd\n",
    "import warnings\n",
    "\n",
    "from src.data.utils import (\n",
    "    get_general_path, join_paths\n",
    ")"
   ]
  },
  {
   "cell_type": "markdown",
   "id": "13943a61",
   "metadata": {},
   "source": [
    "## Configuration"
   ]
  },
  {
   "cell_type": "code",
   "execution_count": 2,
   "id": "420e2a90",
   "metadata": {},
   "outputs": [],
   "source": [
    "warnings.filterwarnings('ignore')"
   ]
  },
  {
   "cell_type": "markdown",
   "id": "6d64ecdd",
   "metadata": {},
   "source": [
    "## Constants"
   ]
  },
  {
   "cell_type": "code",
   "execution_count": 3,
   "id": "950014ba",
   "metadata": {},
   "outputs": [],
   "source": [
    "INTERIM_DATA = 'data/interim/'\n",
    "METEOROLOGICAL_INFORMATION = 'meteorological_information'\n",
    "METEOROLOGICAL_FEATURES = 'meteorological_features'\n",
    "MUN_PLACEHOLDER = 'mun_id={}'\n",
    "MUNICIPAL_DATA = 'municipal_data.pkl'\n",
    "\n",
    "DAYS = 90 # 3 Months\n",
    "LAG = 5 # 5 days"
   ]
  },
  {
   "cell_type": "markdown",
   "id": "65bec990",
   "metadata": {},
   "source": [
    "## Helper functions"
   ]
  },
  {
   "cell_type": "code",
   "execution_count": 4,
   "id": "5775237f",
   "metadata": {},
   "outputs": [],
   "source": [
    "def get_rolling_data_partition(mun_id):\n",
    "    general_path = get_general_path()\n",
    "    meteorological_information_path = join_paths(\n",
    "        general_path, INTERIM_DATA, METEOROLOGICAL_INFORMATION, MUN_PLACEHOLDER.format(mun_id)\n",
    "    )\n",
    "    \n",
    "    meteorological_features_path = join_paths(\n",
    "        general_path, INTERIM_DATA, METEOROLOGICAL_FEATURES\n",
    "    )\n",
    "\n",
    "    mun_data = pd.read_parquet(meteorological_information_path)\n",
    "\n",
    "    # Create additional features\n",
    "    mun_data['TS_T2M_change'] = (mun_data['TS'] - mun_data['T2M'])/2\n",
    "    mun_data['T2M_T10M_change'] = (mun_data['T2M'] - mun_data['T10M'])/8\n",
    "    mun_data['change_difference'] = mun_data['TS_T2M_change' ] - mun_data['T2M_T10M_change']\n",
    "    mun_data['T10M_range'] = mun_data['T10M_MAX'] - mun_data['T10M_MIN']\n",
    "    mun_data['TS_TROPT_range'] = mun_data['TS'] - mun_data['TROPT']\n",
    "    mun_data['PS_TROPPB_range'] = mun_data['PS'] - mun_data['TROPPB']\n",
    "    mun_data['new_date'] = mun_data['date'] + datetime.timedelta(days=LAG)\n",
    "    \n",
    "    #Create rolling features\n",
    "    non_rolling_columns = ['date']\n",
    "    daily_information_rolling = mun_data.drop(\n",
    "        non_rolling_columns, axis=1\n",
    "    ).rolling(\n",
    "        f'{DAYS}D', on='new_date', min_periods=DAYS, closed='left'\n",
    "    )\n",
    "    daily_information_rolling_info = {}\n",
    "    daily_information_rolling_info['mean'] = daily_information_rolling.mean()\n",
    "    daily_information_rolling_info['std'] = daily_information_rolling.std()\n",
    "    daily_information_rolling_info['max'] = daily_information_rolling.max()\n",
    "    daily_information_rolling_info['min'] = daily_information_rolling.min()\n",
    "    daily_information_rolling_info['median'] = daily_information_rolling.median()\n",
    "    daily_information_rolling_info['skew'] = daily_information_rolling.skew()\n",
    "    daily_information_rolling_info['kurt'] = daily_information_rolling.kurt()\n",
    "    daily_information_rolling_info['mean_vs_median'] = daily_information_rolling_info['mean'] - daily_information_rolling_info['median']\n",
    "    daily_information_rolling_info['range'] = daily_information_rolling_info['max'] - daily_information_rolling_info['min']\n",
    "    daily_information_rolling_dfs = []\n",
    "    for operation, data in daily_information_rolling_info.items():\n",
    "        rename_col_dict = {\n",
    "            col:f'{col}__last{DAYS}_days_{operation}' \n",
    "            for col in data.drop('new_date', axis=1).columns}\n",
    "        data.rename(columns=rename_col_dict, inplace=True)\n",
    "        daily_information_rolling_dfs.append(data)\n",
    "    concatenated_daily_information_rolling_df = pd.concat(daily_information_rolling_dfs, axis=1)\n",
    "    concatenated_daily_information_rolling_df['mun_id'] = mun_id\n",
    "    concatenated_daily_information_rolling_df.drop('new_date', axis=1, inplace=True)\n",
    "    concatenated_daily_information_rolling_df.to_parquet(meteorological_features_path, partition_cols=['mun_id'])\n",
    "    return None\n"
   ]
  },
  {
   "cell_type": "markdown",
   "id": "bb362338",
   "metadata": {},
   "source": [
    "## Read data\n"
   ]
  },
  {
   "cell_type": "code",
   "execution_count": 5,
   "id": "4d5fe45e",
   "metadata": {},
   "outputs": [],
   "source": [
    "general_path = get_general_path()\n",
    "municipal_data_path = join_paths(general_path, INTERIM_DATA, MUNICIPAL_DATA)\n",
    "\n",
    "municipal_data = pd.read_pickle(municipal_data_path)"
   ]
  },
  {
   "cell_type": "markdown",
   "id": "3439917f",
   "metadata": {},
   "source": [
    "## Process data"
   ]
  },
  {
   "cell_type": "code",
   "execution_count": 6,
   "id": "e7d604d8",
   "metadata": {},
   "outputs": [
    {
     "name": "stdout",
     "output_type": "stream",
     "text": [
      "01_008 0\n",
      "07_080 100\n",
      "07_114 200\n",
      "10_004 300\n",
      "12_038 400\n",
      "13_024 500\n",
      "14_113 600\n",
      "15_021 700\n",
      "16_106 800\n",
      "16_029 900\n",
      "19_031 1000\n",
      "20_106 1100\n",
      "20_092 1200\n",
      "20_192 1300\n",
      "20_436 1400\n",
      "20_449 1500\n",
      "21_176 1600\n",
      "21_145 1700\n",
      "22_014 1800\n",
      "25_006 1900\n",
      "28_003 2000\n",
      "30_051 2100\n",
      "30_030 2200\n",
      "30_206 2300\n",
      "31_080 2400\n"
     ]
    }
   ],
   "source": [
    "municipal_data_list = []\n",
    "for i, mun_id in enumerate(municipal_data.index):\n",
    "    get_rolling_data_partition(mun_id)\n",
    "    if not i%100:\n",
    "        print(mun_id, i)"
   ]
  },
  {
   "cell_type": "code",
   "execution_count": null,
   "id": "31c51ba5",
   "metadata": {},
   "outputs": [],
   "source": []
  }
 ],
 "metadata": {
  "kernelspec": {
   "display_name": "Python 3 (ipykernel)",
   "language": "python",
   "name": "python3"
  },
  "language_info": {
   "codemirror_mode": {
    "name": "ipython",
    "version": 3
   },
   "file_extension": ".py",
   "mimetype": "text/x-python",
   "name": "python",
   "nbconvert_exporter": "python",
   "pygments_lexer": "ipython3",
   "version": "3.8.10"
  }
 },
 "nbformat": 4,
 "nbformat_minor": 5
}
