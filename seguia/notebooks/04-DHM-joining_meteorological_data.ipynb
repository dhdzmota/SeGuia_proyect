{
 "cells": [
  {
   "cell_type": "markdown",
   "id": "8e98ddf5",
   "metadata": {},
   "source": [
    "# Getting NASA Meteorological information:\n",
    "\n",
    "Este notebook explora la posibilidad de descargar la información de la NASA. Posteriormente se debe \"productivizar\" por lo que servirá como base para el futuro. \n",
    "\n",
    "La descripción de la informacion meteorológica se obtuvo de este [link](https://gist.github.com/abelcallejo/d68e70f43ffa1c8c9f6b5e93010704b8)."
   ]
  },
  {
   "cell_type": "markdown",
   "id": "a4efc871",
   "metadata": {},
   "source": [
    "# Imports"
   ]
  },
  {
   "cell_type": "code",
   "execution_count": 2,
   "id": "241964cc",
   "metadata": {},
   "outputs": [],
   "source": [
    "import datetime \n",
    "import json\n",
    "import matplotlib.pyplot as plt\n",
    "import os\n",
    "import pandas as pd\n",
    "import pyarrow as pa\n",
    "import pyarrow.parquet as pq\n",
    "import requests\n",
    "\n",
    "\n",
    "from src.data.utils import (\n",
    "    get_general_path, join_paths, check_if_filepath_exists, save_as_pickle\n",
    ")"
   ]
  },
  {
   "cell_type": "markdown",
   "id": "eaf9a741",
   "metadata": {},
   "source": [
    "## Configs"
   ]
  },
  {
   "cell_type": "code",
   "execution_count": null,
   "id": "41d8af9a",
   "metadata": {},
   "outputs": [],
   "source": []
  },
  {
   "cell_type": "markdown",
   "id": "729cd540",
   "metadata": {},
   "source": [
    "## Constants"
   ]
  },
  {
   "cell_type": "code",
   "execution_count": 3,
   "id": "23d32028",
   "metadata": {},
   "outputs": [],
   "source": [
    "METEO_RAW_DATA = 'data/raw/meteorological_info/'\n",
    "MUNICIPAL_DATA_FILE = 'municipal_data.pkl'\n",
    "INTERIM_DATA = 'data/interim/'\n",
    "METEOROLOGICAL_FILE = \"meteorological_information\""
   ]
  },
  {
   "cell_type": "markdown",
   "id": "9773c66a",
   "metadata": {},
   "source": [
    "## Helper Functions"
   ]
  },
  {
   "cell_type": "code",
   "execution_count": 4,
   "id": "e36f090b",
   "metadata": {},
   "outputs": [],
   "source": [
    "def get_time_from_string(string_date):\n",
    "    date = datetime.datetime.strptime(string_date, '%Y%m%d' ) \n",
    "    return date\n",
    "\n",
    "def obtain_df_from_meteorological_data(mun_id):\n",
    "    general_path = get_general_path()\n",
    "    filename = f\"{mun_id}.pkl\"\n",
    "    meteorological_path = join_paths(general_path, METEO_RAW_DATA, filename)\n",
    "    meteorological_data = pd.read_pickle(meteorological_path)\n",
    "    meteorological_information = meteorological_data.get('properties').get('parameter')\n",
    "    meteorological_information_df = pd.DataFrame(meteorological_information).reset_index()\n",
    "    meteorological_information_df[\"date\"] = meteorological_information_df['index'].apply(get_time_from_string)\n",
    "    meteorological_information_df['mun_id'] = mun_id\n",
    "    meteorological_information_df['mun_id__time'] = mun_id + '__' + meteorological_information_df['index'].astype('string')\n",
    "    meteorological_information_df.set_index('mun_id__time', inplace=True)\n",
    "    meteorological_information_df.drop(['index'], axis=1, inplace=True)\n",
    "    return meteorological_information_df"
   ]
  },
  {
   "cell_type": "markdown",
   "id": "41d4df2d",
   "metadata": {},
   "source": [
    "## Read Data"
   ]
  },
  {
   "cell_type": "code",
   "execution_count": 5,
   "id": "68537869",
   "metadata": {},
   "outputs": [],
   "source": [
    "general_path = get_general_path()\n",
    "municipal_data_path = join_paths(general_path, INTERIM_DATA, MUNICIPAL_DATA_FILE)\n",
    "meteorological_data_path = join_paths(general_path, METEO_RAW_DATA)\n",
    "final_meteorological_data_path = join_paths(general_path, INTERIM_DATA, METEOROLOGICAL_FILE)\n",
    "\n",
    "municipal_data = pd.read_pickle(municipal_data_path)"
   ]
  },
  {
   "cell_type": "markdown",
   "id": "48a602db",
   "metadata": {},
   "source": [
    "## Process Data"
   ]
  },
  {
   "cell_type": "code",
   "execution_count": 6,
   "id": "1c72b907",
   "metadata": {},
   "outputs": [],
   "source": [
    "meteorological_files = [file.split('.')[0] for file in os.listdir(meteorological_data_path)]"
   ]
  },
  {
   "cell_type": "code",
   "execution_count": 7,
   "id": "d7728ae8",
   "metadata": {},
   "outputs": [],
   "source": [
    "mun_ids = sorted(list(set(meteorological_files).intersection(set(municipal_data.index))))"
   ]
  },
  {
   "cell_type": "code",
   "execution_count": 8,
   "id": "bc488c28",
   "metadata": {},
   "outputs": [],
   "source": [
    "meteo_dfs = [obtain_df_from_meteorological_data(mun_id) for mun_id in mun_ids]"
   ]
  },
  {
   "cell_type": "code",
   "execution_count": 9,
   "id": "c766f02b",
   "metadata": {},
   "outputs": [],
   "source": [
    "joined_meteo_dfs = pd.concat(meteo_dfs)"
   ]
  },
  {
   "cell_type": "code",
   "execution_count": 10,
   "id": "1634815f",
   "metadata": {},
   "outputs": [],
   "source": [
    "# Since saving into parquet did not work with all the municipalities, we need to spearate them. \n",
    "\n",
    "pt1 = joined_meteo_dfs[joined_meteo_dfs.mun_id <= '16_']\n",
    "pt2 = joined_meteo_dfs[joined_meteo_dfs.mun_id > '16_']"
   ]
  },
  {
   "cell_type": "markdown",
   "id": "38511870",
   "metadata": {},
   "source": [
    "## Results: "
   ]
  },
  {
   "cell_type": "code",
   "execution_count": null,
   "id": "6f5b3fa2",
   "metadata": {},
   "outputs": [],
   "source": [
    "pt1.to_parquet(final_meteorological_data_path, partition_cols=['mun_id'])\n",
    "pt2.to_parquet(final_meteorological_data_path, partition_cols=['mun_id'])"
   ]
  },
  {
   "cell_type": "code",
   "execution_count": null,
   "id": "877cd465",
   "metadata": {},
   "outputs": [],
   "source": []
  }
 ],
 "metadata": {
  "kernelspec": {
   "display_name": "Python 3 (ipykernel)",
   "language": "python",
   "name": "python3"
  },
  "language_info": {
   "codemirror_mode": {
    "name": "ipython",
    "version": 3
   },
   "file_extension": ".py",
   "mimetype": "text/x-python",
   "name": "python",
   "nbconvert_exporter": "python",
   "pygments_lexer": "ipython3",
   "version": "3.8.10"
  }
 },
 "nbformat": 4,
 "nbformat_minor": 5
}
